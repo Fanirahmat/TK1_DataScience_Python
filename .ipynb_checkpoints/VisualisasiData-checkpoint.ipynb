{
 "cells": [
  {
   "cell_type": "code",
   "execution_count": 1,
   "id": "71c28488",
   "metadata": {},
   "outputs": [],
   "source": [
    "import matplotlib.pyplot as plt\n",
    "import pandas as pd"
   ]
  },
  {
   "cell_type": "code",
   "execution_count": 2,
   "id": "43804d13",
   "metadata": {},
   "outputs": [
    {
     "data": {
      "text/html": [
       "<div>\n",
       "<style scoped>\n",
       "    .dataframe tbody tr th:only-of-type {\n",
       "        vertical-align: middle;\n",
       "    }\n",
       "\n",
       "    .dataframe tbody tr th {\n",
       "        vertical-align: top;\n",
       "    }\n",
       "\n",
       "    .dataframe thead th {\n",
       "        text-align: right;\n",
       "    }\n",
       "</style>\n",
       "<table border=\"1\" class=\"dataframe\">\n",
       "  <thead>\n",
       "    <tr style=\"text-align: right;\">\n",
       "      <th></th>\n",
       "      <th>No</th>\n",
       "      <th>Ukuran</th>\n",
       "      <th>Lantai</th>\n",
       "      <th>Tarif Internet</th>\n",
       "      <th>Tipe Bangunan</th>\n",
       "      <th>Harga Sewa</th>\n",
       "    </tr>\n",
       "  </thead>\n",
       "  <tbody>\n",
       "    <tr>\n",
       "      <th>0</th>\n",
       "      <td>1</td>\n",
       "      <td>510</td>\n",
       "      <td>4</td>\n",
       "      <td>8</td>\n",
       "      <td>C</td>\n",
       "      <td>320</td>\n",
       "    </tr>\n",
       "    <tr>\n",
       "      <th>1</th>\n",
       "      <td>2</td>\n",
       "      <td>550</td>\n",
       "      <td>7</td>\n",
       "      <td>50</td>\n",
       "      <td>A</td>\n",
       "      <td>385</td>\n",
       "    </tr>\n",
       "    <tr>\n",
       "      <th>2</th>\n",
       "      <td>3</td>\n",
       "      <td>620</td>\n",
       "      <td>9</td>\n",
       "      <td>7</td>\n",
       "      <td>C</td>\n",
       "      <td>400</td>\n",
       "    </tr>\n",
       "    <tr>\n",
       "      <th>3</th>\n",
       "      <td>4</td>\n",
       "      <td>630</td>\n",
       "      <td>5</td>\n",
       "      <td>24</td>\n",
       "      <td>B</td>\n",
       "      <td>392</td>\n",
       "    </tr>\n",
       "    <tr>\n",
       "      <th>4</th>\n",
       "      <td>5</td>\n",
       "      <td>655</td>\n",
       "      <td>8</td>\n",
       "      <td>100</td>\n",
       "      <td>A</td>\n",
       "      <td>380</td>\n",
       "    </tr>\n",
       "    <tr>\n",
       "      <th>5</th>\n",
       "      <td>6</td>\n",
       "      <td>700</td>\n",
       "      <td>4</td>\n",
       "      <td>8</td>\n",
       "      <td>C</td>\n",
       "      <td>410</td>\n",
       "    </tr>\n",
       "    <tr>\n",
       "      <th>6</th>\n",
       "      <td>7</td>\n",
       "      <td>780</td>\n",
       "      <td>10</td>\n",
       "      <td>7</td>\n",
       "      <td>C</td>\n",
       "      <td>480</td>\n",
       "    </tr>\n",
       "    <tr>\n",
       "      <th>7</th>\n",
       "      <td>8</td>\n",
       "      <td>800</td>\n",
       "      <td>12</td>\n",
       "      <td>50</td>\n",
       "      <td>A</td>\n",
       "      <td>600</td>\n",
       "    </tr>\n",
       "    <tr>\n",
       "      <th>8</th>\n",
       "      <td>9</td>\n",
       "      <td>920</td>\n",
       "      <td>14</td>\n",
       "      <td>8</td>\n",
       "      <td>C</td>\n",
       "      <td>570</td>\n",
       "    </tr>\n",
       "    <tr>\n",
       "      <th>9</th>\n",
       "      <td>10</td>\n",
       "      <td>1000</td>\n",
       "      <td>9</td>\n",
       "      <td>24</td>\n",
       "      <td>B</td>\n",
       "      <td>620</td>\n",
       "    </tr>\n",
       "  </tbody>\n",
       "</table>\n",
       "</div>"
      ],
      "text/plain": [
       "   No  Ukuran  Lantai  Tarif Internet Tipe Bangunan  Harga Sewa\n",
       "0   1     510       4               8             C         320\n",
       "1   2     550       7              50             A         385\n",
       "2   3     620       9               7             C         400\n",
       "3   4     630       5              24             B         392\n",
       "4   5     655       8             100             A         380\n",
       "5   6     700       4               8             C         410\n",
       "6   7     780      10               7             C         480\n",
       "7   8     800      12              50             A         600\n",
       "8   9     920      14               8             C         570\n",
       "9  10    1000       9              24             B         620"
      ]
     },
     "execution_count": 2,
     "metadata": {},
     "output_type": "execute_result"
    }
   ],
   "source": [
    "df = pd.read_csv('DataBangunan.csv')\n",
    "df"
   ]
  },
  {
   "cell_type": "code",
   "execution_count": 4,
   "id": "f8e589b8",
   "metadata": {},
   "outputs": [
    {
     "data": {
      "text/html": [
       "<div>\n",
       "<style scoped>\n",
       "    .dataframe tbody tr th:only-of-type {\n",
       "        vertical-align: middle;\n",
       "    }\n",
       "\n",
       "    .dataframe tbody tr th {\n",
       "        vertical-align: top;\n",
       "    }\n",
       "\n",
       "    .dataframe thead th {\n",
       "        text-align: right;\n",
       "    }\n",
       "</style>\n",
       "<table border=\"1\" class=\"dataframe\">\n",
       "  <thead>\n",
       "    <tr style=\"text-align: right;\">\n",
       "      <th></th>\n",
       "      <th>No</th>\n",
       "      <th>Ukuran</th>\n",
       "      <th>Lantai</th>\n",
       "      <th>Tarif Internet</th>\n",
       "      <th>Tipe Bangunan</th>\n",
       "      <th>Harga Sewa</th>\n",
       "    </tr>\n",
       "  </thead>\n",
       "  <tbody>\n",
       "    <tr>\n",
       "      <th>0</th>\n",
       "      <td>1</td>\n",
       "      <td>510</td>\n",
       "      <td>4</td>\n",
       "      <td>8</td>\n",
       "      <td>C</td>\n",
       "      <td>320</td>\n",
       "    </tr>\n",
       "    <tr>\n",
       "      <th>5</th>\n",
       "      <td>6</td>\n",
       "      <td>700</td>\n",
       "      <td>4</td>\n",
       "      <td>8</td>\n",
       "      <td>C</td>\n",
       "      <td>410</td>\n",
       "    </tr>\n",
       "  </tbody>\n",
       "</table>\n",
       "</div>"
      ],
      "text/plain": [
       "   No  Ukuran  Lantai  Tarif Internet Tipe Bangunan  Harga Sewa\n",
       "0   1     510       4               8             C         320\n",
       "5   6     700       4               8             C         410"
      ]
     },
     "execution_count": 4,
     "metadata": {},
     "output_type": "execute_result"
    }
   ],
   "source": [
    "lantai4 = df[df['Lantai'] == 4]\n",
    "lantai4"
   ]
  },
  {
   "cell_type": "code",
   "execution_count": 22,
   "id": "5671cdd0",
   "metadata": {},
   "outputs": [
    {
     "data": {
      "image/png": "[encoded data removed]",
      "text/plain": [
       "<Figure size 640x480 with 1 Axes>"
      ]
     },
     "metadata": {},
     "output_type": "display_data"
    }
   ],
   "source": [
    "plt.plot(df['Ukuran'], df['Harga Sewa'])\n",
    "plt.xlabel('Ukuran')\n",
    "plt.ylabel('Harga Sewa')\n",
    "plt.grid()\n",
    "plt.show()"
   ]
  },
  {
   "cell_type": "code",
   "execution_count": 25,
   "id": "635449bc",
   "metadata": {},
   "outputs": [
    {
     "data": {
      "image/png": "[encoded data removed]",
      "text/plain": [
       "<Figure size 640x480 with 1 Axes>"
      ]
     },
     "metadata": {},
     "output_type": "display_data"
    }
   ],
   "source": [
    "plt.scatter(df['Tipe Bangunan'],df['Tarif Internet'])\n",
    "\n",
    "plt.xlabel('Tipe Bangunan')\n",
    "plt.ylabel('Tarif Internet')\n",
    "plt.show()"
   ]
  },
  {
   "cell_type": "code",
   "execution_count": 19,
   "id": "8385b3c9",
   "metadata": {},
   "outputs": [
    {
     "data": {
      "image/png": "[encoded data removed]",
      "text/plain": [
       "<Figure size 640x480 with 1 Axes>"
      ]
     },
     "metadata": {},
     "output_type": "display_data"
    }
   ],
   "source": [
    "bangunanA = df[df['Tipe Bangunan'] == 'A']\n",
    "sewaA = bangunanA['Harga Sewa']\n",
    "totalSewaA = sewaA.sum()\n",
    "\n",
    "bangunanB = df[df['Tipe Bangunan'] == 'B']\n",
    "sewaB = bangunanB['Harga Sewa']\n",
    "totalSewaB = sewaB.sum()\n",
    "\n",
    "bangunanC = df[df['Tipe Bangunan'] == 'C']\n",
    "sewaC = bangunanC['Harga Sewa']\n",
    "totalSewaC = sewaC.sum()\n",
    "\n",
    "\n",
    "plt.bar(['A','B','C'], [totalSewaA,totalSewaB,totalSewaC])\n",
    "plt.xlabel('Tipe Bangunan')\n",
    "plt.ylabel('Harga Sewa')\n",
    "plt.show()\n"
   ]
  },
  {
   "cell_type": "code",
   "execution_count": null,
   "id": "78f827c9",
   "metadata": {},
   "outputs": [],
   "source": []
  }
 ],
 "metadata": {
  "kernelspec": {
   "display_name": "Python 3 (ipykernel)",
   "language": "python",
   "name": "python3"
  },
  "language_info": {
   "codemirror_mode": {
    "name": "ipython",
    "version": 3
   },
   "file_extension": ".py",
   "mimetype": "text/x-python",
   "name": "python",
   "nbconvert_exporter": "python",
   "pygments_lexer": "ipython3",
   "version": "3.9.13"
  }
 },
 "nbformat": 4,
 "nbformat_minor": 5
}
